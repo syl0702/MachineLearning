{
 "cells": [
  {
   "cell_type": "code",
   "execution_count": 1,
   "metadata": {},
   "outputs": [],
   "source": [
    "from sklearn.metrics import r2_score\n",
    "from sklearn.metrics import mean_squared_error\n",
    "from sklearn.metrics import mean_absolute_error\n",
    "from sklearn.metrics import mean_squared_log_error\n",
    "\n",
    "def evaluate_reg_all(y_test, y_predict):\n",
    "    MSE = mean_squared_error(y_test,y_predict,squared=True)\n",
    "    RMSE = mean_squared_error(y_test,y_predict,squared=False)\n",
    "    MAE = mean_absolute_error(y_test,y_predict)\n",
    "    R2 = r2_score(y_test,y_predict)\n",
    "    \n",
    "    print(f'MSE: {MSE:.3f}, RMSE: {RMSE:.3F}, MAE: {MAE:.3F}, R^2: {R2:.3F}')"
   ]
  },
  {
   "cell_type": "code",
   "execution_count": 3,
   "metadata": {},
   "outputs": [
    {
     "name": "stdout",
     "output_type": "stream",
     "text": [
      "훈련_R2: 0.9923468940188647\n",
      "테스트_R2: 0.9705204934895044\n",
      "MSE: 2661.123, RMSE: 51.586, MAE: 32.378, R^2: 0.971\n",
      "예측값: 1000.0\n"
     ]
    }
   ],
   "source": [
    "import pandas as pd\n",
    "import numpy as np\n",
    "from sklearn.model_selection import train_test_split\n",
    "\n",
    "from sklearn.tree import DecisionTreeRegressor\n",
    "\n",
    "# 경고메세지 끄기\n",
    "import warnings\n",
    "warnings.filterwarnings(action='ignore')\n",
    "\n",
    "##########데이터 로드\n",
    "fish_df = pd.read_csv('./data/fish.csv')\n",
    "\n",
    "##########데이터 분석\n",
    "\n",
    "##########데이터 전처리\n",
    "y_target = fish_df['무게']\n",
    "X_data = fish_df.drop(['무게'],axis=1)\n",
    "\n",
    "x_train, x_test, y_train , y_test = train_test_split(X_data , y_target ,test_size=0.3, random_state=42)\n",
    "\n",
    "\n",
    "\n",
    "\n",
    "##########모델 생성\n",
    "# 하이퍼 파라미터 ---> 개발자의 결정\n",
    "\n",
    "model = DecisionTreeRegressor(random_state=43,max_depth=5)\n",
    "\n",
    "##########모델 학습\n",
    "\n",
    "model.fit(x_train, y_train)\n",
    "\n",
    "##########모델 검증\n",
    "\n",
    "print(f'훈련_R2: {model.score(x_train, y_train)}') \n",
    "print(f'테스트_R2: {model.score(x_test, y_test)}')\n",
    "\n",
    "y_predict = model.predict(x_test) ## 주의: 테스트 데이터에 대해 평가해야함!\n",
    "evaluate_reg_all(y_test,y_predict)\n",
    "\n",
    "\n",
    "\n",
    "# 개발 끝\n",
    "##########모델 예측\n",
    "\n",
    "x_real = np.array([\n",
    "    [50]\n",
    "])\n",
    "\n",
    "y_real_predict = model.predict(x_real)\n",
    "\n",
    "# print(y_predict[0]) #1245.423930742852\n",
    "print(f'예측값: {y_real_predict[0]}') "
   ]
  },
  {
   "cell_type": "code",
   "execution_count": null,
   "metadata": {},
   "outputs": [],
   "source": []
  }
 ],
 "metadata": {
  "kernelspec": {
   "display_name": "Python 3",
   "language": "python",
   "name": "python3"
  },
  "language_info": {
   "codemirror_mode": {
    "name": "ipython",
    "version": 3
   },
   "file_extension": ".py",
   "mimetype": "text/x-python",
   "name": "python",
   "nbconvert_exporter": "python",
   "pygments_lexer": "ipython3",
   "version": "3.10.11"
  },
  "orig_nbformat": 4
 },
 "nbformat": 4,
 "nbformat_minor": 2
}
